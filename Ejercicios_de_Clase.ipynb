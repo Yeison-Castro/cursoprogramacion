{
  "nbformat": 4,
  "nbformat_minor": 0,
  "metadata": {
    "colab": {
      "provenance": []
    },
    "kernelspec": {
      "name": "python3",
      "display_name": "Python 3"
    },
    "language_info": {
      "name": "python"
    }
  },
  "cells": [
    {
      "cell_type": "code",
      "execution_count": 1,
      "metadata": {
        "colab": {
          "base_uri": "https://localhost:8080/"
        },
        "id": "IYy29fBPtrzU",
        "outputId": "02a04023-4756-4620-cd6a-40cd618e30d9"
      },
      "outputs": [
        {
          "output_type": "stream",
          "name": "stdout",
          "text": [
            "Digite su Nombre: yeison\n",
            "yeison\n"
          ]
        }
      ],
      "source": [
        "Nombre_Per = input(\"Digite su Nombre: \")\n",
        "print (Nombre_Per)\n"
      ]
    },
    {
      "cell_type": "markdown",
      "source": [
        "**Actividad 1**"
      ],
      "metadata": {
        "id": "445HemMP69IF"
      }
    },
    {
      "cell_type": "code",
      "source": [
        "# Taller Numero 1\n",
        "#Seleccion de data\n",
        "num_ID = input(\"Digite su numero de identificacion: \")\n",
        "nombre_per = input(\"Digite su nombre: \")\n",
        "apellido_per = input(\"Digite su apellido: \")\n",
        "direccion_per = input(\"Digite su dirección: \")\n",
        "telefono_per = input(\"Digite su Telefono: \")\n",
        "edad_per = input(\"Digite su edad: \") \n",
        "estado_civil_per = input(\"Digite su estado civil: \")\n",
        "hijos_per = input(\"Digite su numero de hijo/s: \")\n",
        "estatura_per = input(\"Digite su estatura en centimetros: \")\n",
        "fecha_contratacion_per = input(\"Digite su fecha de contratación : \")\n",
        "sueldo_per = input(\"Digite su sueldo basico: \")\n",
        "dias_labortados_per = input(\"Digite los dias laborados: \")\n",
        "\n",
        "#Imprimir por pantalla\n",
        "\n",
        "print (num_ID)\n",
        "\n",
        "print(nombre_per)\n",
        "print(apellido_per)\n",
        "print(direccion_per)\n",
        "print(telefono_per)\n",
        "print(edad_per)\n",
        "print(estado_civil_per)\n",
        "print(hijos_per)\n",
        "print(estatura_per)\n",
        "print(fecha_contratacion_per)\n",
        "print(sueldo_per)\n",
        "print(dias_labortados_per)\n",
        "\n"
      ],
      "metadata": {
        "colab": {
          "base_uri": "https://localhost:8080/"
        },
        "id": "F21sjxYnx8lc",
        "outputId": "2f6230aa-4d79-4061-9c14-893adc62dbda"
      },
      "execution_count": 2,
      "outputs": [
        {
          "output_type": "stream",
          "name": "stdout",
          "text": [
            "Digite su numero de identificacion: 1023918525\n",
            "Digite su nombre: Yeison\n",
            "Digite su apellido: Castro\n",
            "Digite su dirección: calle 20 a sur\n",
            "Digite su Telefono: 3145197224\n",
            "Digite su edad: 30\n",
            "Digite su estado civil: casado\n",
            "Digite su numero de hijo/s: 30\n",
            "Digite su estatura en centimetros: 1.75\n",
            "Digite su fecha de contratación : 17/05/2023\n",
            "Digite su sueldo basico: 1200000\n",
            "Digite los dias laborados: 360\n",
            "1023918525\n",
            "Yeison\n",
            "Castro\n",
            "calle 20 a sur\n",
            "3145197224\n",
            "30\n",
            "casado\n",
            "30\n",
            "1.75\n",
            "17/05/2023\n",
            "1200000\n",
            "360\n"
          ]
        }
      ]
    },
    {
      "cell_type": "markdown",
      "source": [
        "Actividad 2"
      ],
      "metadata": {
        "id": "FH1DbCDc7W6O"
      }
    },
    {
      "cell_type": "code",
      "source": [
        "#Una tienda ofrece un descuento del 15% sobre el total de la compra y un cliente desea saber cuánto deberá pagar finalmente por su compra.\n",
        "\n",
        "vlcompra = int(input(\"Digite el valor de la compra: \"))\n",
        "descuento = vlcompra * 0.15\n",
        "total = vlcompra - descuento\n",
        "print(\"Total Compra = ${:,.0f} Descuento = ${:,.0f} Compra con Descuento = ${:,.0f}\".format(vlcompra,descuento,total ))"
      ],
      "metadata": {
        "colab": {
          "base_uri": "https://localhost:8080/"
        },
        "id": "yIB1LvpW7T15",
        "outputId": "dfd02f7c-e318-4894-8010-6d003ec742ae"
      },
      "execution_count": 66,
      "outputs": [
        {
          "output_type": "stream",
          "name": "stdout",
          "text": [
            "Digite el valor de la compra: 100000\n",
            "Total Compra = $100,000 Descuento = $15,000 Compra con Descuento = $85,000\n"
          ]
        }
      ]
    },
    {
      "cell_type": "code",
      "source": [
        "#Un maestro desea saber qué porcentaje de hombres y que porcentaje de mujeres hay en un grupo de estudiantes.\n",
        "\n",
        "mujeres = int(input(\"Digite cantidad de mujeres: \"))\n",
        "hombres = int(input(\"Digite cantidad de hombre: \"))\n",
        "totalgrupo = mujeres + hombres\n",
        "porcentajem = mujeres / (mujeres + hombres) * 100\n",
        "porcentajeh = hombres / (mujeres + hombres) * 100\n",
        "print(\"Porcentaje de mujeres = {:,.0f}%\".format(porcentajem))\n",
        "print(\"Porcentaje de hombres = {:,.0f}%\".format(porcentajeh))\n",
        "print(\"Total grupo = {:,.0f}\".format(totalgrupo))"
      ],
      "metadata": {
        "colab": {
          "base_uri": "https://localhost:8080/"
        },
        "id": "XbBahF1GBvTv",
        "outputId": "515470c2-0986-4bfb-fb5c-d7e2937f6cde"
      },
      "execution_count": 8,
      "outputs": [
        {
          "output_type": "stream",
          "name": "stdout",
          "text": [
            "Digite cantidad de mujeres: 30\n",
            "Digite cantidad de hombre: 31\n",
            "Porcentaje de mujeres = 49%\n",
            "Porcentaje de hombres = 51%\n",
            "Total grupo = 61\n"
          ]
        }
      ]
    },
    {
      "cell_type": "code",
      "source": [
        "#Un vendedor recibe un sueldo base más un 10% extra por comisión de sus ventas, el vendedor desea saber cuánto dinero obtendrá por concepto de comisiones por las tres\n",
        "#ventas que realiza en el mes y el total que recibirá en el mes tomando en cuenta su sueldo base y comisiones.\n",
        "\n",
        "Sueldobase = int(input(\"Ingrese su sueldo base: \"))\n",
        "venta1 = int(input(\"Ingrese su venta # 1: \"))\n",
        "comision1 = venta1 * 0.10\n",
        "venta2 = int(input(\"Ingrese su venta # 2: \"))\n",
        "comision2 = venta2 * 0.10\n",
        "venta3 = int(input(\"Ingrese su venta # 3: \"))\n",
        "comision3 = venta3 * 0.10\n",
        "comisiontotal = comision1 + comision2 + comision3\n",
        "totalsueldo = comisiontotal + Sueldobase\n",
        "print(\"Comisión venta # 1 = ${:,.0f} Comisión venta # 2 = ${:,.0f} Comisión venta # 3 = ${:,.0f} \".format(comision1,comision2,comision3))\n",
        "print(\"Sueldo Base = ${:,.0f}\".format(Sueldobase))\n",
        "print(\"Comisión por Ventas = ${:,.0f}\".format(comisiontotal))\n",
        "print(\"Dinero total = ${:,.0f}\".format(totalsueldo))\n"
      ],
      "metadata": {
        "colab": {
          "base_uri": "https://localhost:8080/"
        },
        "id": "iueL8ivDGaGD",
        "outputId": "08f058bb-cb92-4f8f-d54c-8dd2cce7bce3"
      },
      "execution_count": 9,
      "outputs": [
        {
          "output_type": "stream",
          "name": "stdout",
          "text": [
            "Ingrese su sueldo base: 1200000\n",
            "Ingrese su venta # 1: 5000000\n",
            "Ingrese su venta # 2: 7000000\n",
            "Ingrese su venta # 3: 10000000\n",
            "Comisión venta # 1 = $500,000 Comisión venta # 2 = $700,000 Comisión venta # 3 = $1,000,000 \n",
            "Sueldo Base = $1,200,000\n",
            "Comisión por Ventas = $2,200,000\n",
            "Dinero total = $3,400,000\n"
          ]
        }
      ]
    },
    {
      "cell_type": "code",
      "source": [
        "edad = int (input(\"Digite su edad: \"))\n",
        "if edad >= 13 and edad < 20: \n",
        "  print(\"eres un dolecente\")\n",
        "else:\n",
        "  print(\"No eres adolecente\")"
      ],
      "metadata": {
        "colab": {
          "base_uri": "https://localhost:8080/"
        },
        "id": "LUX4pUP_Ejdn",
        "outputId": "3580333f-810e-4cda-d2ac-bcf95b10fa79"
      },
      "execution_count": 21,
      "outputs": [
        {
          "output_type": "stream",
          "name": "stdout",
          "text": [
            "Digite su edad: 30\n",
            "No eres adolecente\n"
          ]
        }
      ]
    },
    {
      "cell_type": "markdown",
      "source": [
        "**Actividad 3**"
      ],
      "metadata": {
        "id": "b-67qiWGNI4c"
      }
    },
    {
      "cell_type": "code",
      "source": [
        "# Taller Numero 3\n",
        "#Data\n",
        "num_ID = input(\"Digite su numero de identificacion: \")\n",
        "nombre_per = input(\"Digite su nombre: \")\n",
        "apellido_per = input(\"Digite su apellido: \")\n",
        "direccion_per = input(\"Digite su dirección: \")\n",
        "telefono_per = input(\"Digite su Telefono: \")\n",
        "\n",
        "# Validacion Bono por sueldo \n",
        "sueldo_per = float(input(\"Digite su sueldo basico: \"))\n",
        "if sueldo_per >= 1000000 and sueldo_per <= 1500000:\n",
        "    comision = sueldo_per * 0.02\n",
        "    print(\"posee una comision del 2%\")\n",
        "elif sueldo_per > 1500000 and sueldo_per <= 2000000:\n",
        "    comision = sueldo_per * 0.05\n",
        "    print(\"posee una comision del 5%\")    \n",
        "else:print(\"No tiene bono \")\n",
        "# Fin Validacion Bono por sueldo\n",
        "\n",
        "# Validacion Bono Prepensión\n",
        "edad_per = int(input(\"Digite su edad: \"))\n",
        "bono = sueldo_per * 0.05\n",
        "if edad_per < 55:\n",
        "  estado = \"(NO APROBADO)El empleado no cumple con los requisitos para recibir un bono de prepensión.\"\n",
        "else:\n",
        "  estado = \"(APROBADO) cuenta con bono de prepensión del 5% sobre su sueldo basico.\" \n",
        "  #fin Bono prepensión\n",
        "    \n",
        "#Validación Casado \n",
        "estado_civil_per = input(\"¿Está casado el empleado? (s/n): \")\n",
        "Empleado_tiene_hijos = input(\"¿Tiene hijos el empleado? (s/n): \")\n",
        "if Empleado_tiene_hijos == \"s\":\n",
        "    cantidad_hijo = input(\"cuantos Hijos tiene: \")\n",
        "    print(\"Numero de Hijos = {}\".format(cantidad_hijo))\n",
        "else:\n",
        "    print(\"NO tiene hijos\")\n",
        "if estado_civil_per == \"s\" and Empleado_tiene_hijos == \"s\":\n",
        "    print(\"Este empleado tiene derecho a un paseo cada diciembre.\")\n",
        "else:\n",
        "    print(\"No tiene derecho a paseo en Diciembre\")\n",
        "#fin Validacion Casado\n",
        "\n",
        "estatura_per = input(\"Digite su estatura en centimetros: \")\n",
        "fecha_contratacion_per = input(\"Digite su fecha de contratación : \")\n",
        "\n",
        "#validacion bono Alimentación\n",
        "dias_labortados_per = int (input(\"Digite los dias laborados: \"))\n",
        "if dias_labortados_per <= 20 and sueldo_per <= 1000000:\n",
        "  print(\"El empleado tendrá derecho a un bono de alimentación.\")\n",
        "else:\n",
        "  print(\"No tiene bono alimentario\")\n",
        "#Imprimir por pantalla\n",
        "\n",
        "print(\"\\nCedula = {}\".format(num_ID))\n",
        "print(\"Nombre = {}\".format(nombre_per))\n",
        "print(\"Apellido = {}\".format(apellido_per))\n",
        "print(\"Dirección = {}\".format(direccion_per))\n",
        "print(\"Telefono = {}\".format(telefono_per))\n",
        "print(\"Edad = {}\".format(edad_per))\n",
        "print(\"Estado Civil = {}\".format(estado_civil_per))\n",
        "print(\"Estatura = {}\".format(estatura_per))\n",
        "print(\"Fecha de Contratación = {}\".format(fecha_contratacion_per))\n",
        "print(\"Sueldo = {:,.0f}\".format(sueldo_per))\n",
        "print(\"Dias Laborados = {}\".format(dias_labortados_per))\n",
        "\n",
        "#Beneficios\n",
        "print(\"ESTOS SON SUS BENEFICIOS\")\n",
        "print(\"Si cumple con la edad, podria tener un bono de prepensión de = ${:,.0f} el estado del mismo es: {}\".format(bono,estado)) \n"
      ],
      "metadata": {
        "colab": {
          "base_uri": "https://localhost:8080/"
        },
        "id": "hKB_pVySNGxs",
        "outputId": "0e8f4f7e-4771-4a76-fe37-dc2272fbd181"
      },
      "execution_count": 65,
      "outputs": [
        {
          "output_type": "stream",
          "name": "stdout",
          "text": [
            "Digite su numero de identificacion: 1023918525\n",
            "Digite su nombre: Yeison\n",
            "Digite su apellido: castro\n",
            "Digite su dirección: calle 20\n",
            "Digite su Telefono: 3145197224\n",
            "Digite su sueldo basico: 1200000\n",
            "posee una comision del 2%\n",
            "Digite su edad: 20\n",
            "¿Está casado el empleado? (s/n): s\n",
            "¿Tiene hijos el empleado? (s/n): s\n",
            "cuantos Hijos tiene: 0\n",
            "Numero de Hijos = 0\n",
            "Este empleado tiene derecho a un paseo cada diciembre.\n",
            "Digite su estatura en centimetros: 152\n",
            "Digite su fecha de contratación : 17/12/2022\n",
            "Digite los dias laborados: 12\n",
            "No tiene bono alimentario\n",
            "\n",
            "Cedula = 1023918525\n",
            "Nombre = Yeison\n",
            "Apellido = castro\n",
            "Dirección = calle 20\n",
            "Telefono = 3145197224\n",
            "Edad = 20\n",
            "Estado Civil = s\n",
            "Estatura = 152\n",
            "Fecha de Contratación = 17/12/2022\n",
            "Sueldo = 1,200,000\n",
            "Dias Laborados = 12\n",
            "ESTOS SON SUS BENEFICIOS\n",
            "Si cumple con la edad, podria tener un bono de prepensión de = $60,000 el estado del mismo es: (NO APROBADO)El empleado no cumple con los requisitos para recibir un bono de prepensión.\n"
          ]
        }
      ]
    }
  ]
}