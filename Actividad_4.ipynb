{
  "nbformat": 4,
  "nbformat_minor": 0,
  "metadata": {
    "colab": {
      "provenance": []
    },
    "kernelspec": {
      "name": "python3",
      "display_name": "Python 3"
    },
    "language_info": {
      "name": "python"
    }
  },
  "cells": [
    {
      "cell_type": "code",
      "execution_count": 13,
      "metadata": {
        "colab": {
          "base_uri": "https://localhost:8080/"
        },
        "id": "-kZ41tCNIMUU",
        "outputId": "9a511052-752a-437a-9a12-91ad5577196f"
      },
      "outputs": [
        {
          "output_type": "stream",
          "name": "stdout",
          "text": [
            "0\n",
            "2\n",
            "4\n",
            "6\n",
            "8\n",
            "10\n",
            "12\n",
            "14\n",
            "16\n",
            "18\n",
            "20\n",
            "22\n",
            "24\n",
            "26\n",
            "28\n",
            "30\n",
            "32\n",
            "34\n",
            "36\n",
            "38\n",
            "40\n",
            "42\n",
            "44\n",
            "46\n",
            "48\n",
            "50\n",
            "52\n",
            "54\n",
            "56\n",
            "58\n",
            "60\n",
            "62\n",
            "64\n",
            "66\n",
            "68\n",
            "70\n",
            "72\n",
            "74\n",
            "76\n",
            "78\n",
            "80\n",
            "82\n",
            "84\n",
            "86\n",
            "88\n",
            "90\n",
            "92\n",
            "94\n",
            "96\n",
            "98\n",
            "100\n"
          ]
        }
      ],
      "source": [
        "#Crear un bucle que cuente todos los números pares hasta el 100 ciclo for\n",
        "\n",
        "for i in range(0,102,2):\n",
        "  print(i)\n"
      ]
    },
    {
      "cell_type": "code",
      "source": [
        "#Haz una tabla de multiplicar utilizando el ciclo for ciclo for\n",
        "\n",
        "num = int (input(\"Dijite numero \"))\n",
        "\n",
        "for i in range(11):\n",
        "  print(i, \"x\" , num ,\" = \", i * num )"
      ],
      "metadata": {
        "colab": {
          "base_uri": "https://localhost:8080/"
        },
        "id": "vVO5VxqLL04-",
        "outputId": "7356643b-ef68-435b-f2b8-753b05139fa9"
      },
      "execution_count": 31,
      "outputs": [
        {
          "output_type": "stream",
          "name": "stdout",
          "text": [
            "Dijite numero 8\n",
            "0 x 8  =  0\n",
            "1 x 8  =  8\n",
            "2 x 8  =  16\n",
            "3 x 8  =  24\n",
            "4 x 8  =  32\n",
            "5 x 8  =  40\n",
            "6 x 8  =  48\n",
            "7 x 8  =  56\n",
            "8 x 8  =  64\n",
            "9 x 8  =  72\n",
            "10 x 8  =  80\n"
          ]
        }
      ]
    },
    {
      "cell_type": "code",
      "source": [
        "#Escribir un programa que pida al usuario un número entero positivo y muestre por pantalla todos los números impares desde 1 hasta ese número separados por comas.\n",
        "numero = int(input(\"Introduce un número entero positivo: \"))\n",
        "impares = []\n",
        "\n",
        "for i in range(1, numero+1):\n",
        "    if i % 2 != 0:\n",
        "        impares.append(str(i))\n",
        "\n",
        "print(\",\".join(impares))\n",
        " "
      ],
      "metadata": {
        "id": "tHC1Uj32N_rI"
      },
      "execution_count": null,
      "outputs": []
    },
    {
      "cell_type": "code",
      "source": [
        "# Encuentra la suma de todos los números pares del 1 al 100 ciclo for\n",
        "acu = 0\n",
        "\n",
        "for i in range(0,102,2):\n",
        "  #print(i)\n",
        "  acu = acu + i\n",
        "print(f\"El total de la suma de los número pares del 0-100= {acu}\")"
      ],
      "metadata": {
        "colab": {
          "base_uri": "https://localhost:8080/"
        },
        "id": "_npKTHbzOM-e",
        "outputId": "20d80e2b-70b6-4dad-e4eb-20e15f4e18e4"
      },
      "execution_count": 36,
      "outputs": [
        {
          "output_type": "stream",
          "name": "stdout",
          "text": [
            "El total de la suma de los número pares del 0-100= 2550\n"
          ]
        }
      ]
    }
  ]
}