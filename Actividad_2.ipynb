{
  "nbformat": 4,
  "nbformat_minor": 0,
  "metadata": {
    "colab": {
      "provenance": []
    },
    "kernelspec": {
      "name": "python3",
      "display_name": "Python 3"
    },
    "language_info": {
      "name": "python"
    }
  },
  "cells": [
    {
      "cell_type": "code",
      "execution_count": null,
      "metadata": {
        "id": "GPjlytY40Qic"
      },
      "outputs": [],
      "source": [
        "#Una tienda ofrece un descuento del 15% sobre el total de la compra y un cliente desea saber cuánto deberá pagar finalmente por su compra.\n",
        "\n",
        "vlcompra = int(input(\"Digite el valor de la compra: \"))\n",
        "descuento = vlcompra * 0.15\n",
        "total = vlcompra - descuento\n",
        "print(\"Total Compra = ${:,.0f} Descuento = ${:,.0f} Compra con Descuento = ${:,.0f}\".format(vlcompra,descuento,total ))"
      ]
    },
    {
      "cell_type": "code",
      "source": [
        "#Un maestro desea saber qué porcentaje de hombres y que porcentaje de mujeres hay en un grupo de estudiantes.\n",
        "\n",
        "mujeres = int(input(\"Digite cantidad de mujeres: \"))\n",
        "hombres = int(input(\"Digite cantidad de hombre: \"))\n",
        "totalgrupo = mujeres + hombres\n",
        "porcentajem = mujeres / (mujeres + hombres) * 100\n",
        "porcentajeh = hombres / (mujeres + hombres) * 100\n",
        "print(\"Porcentaje de mujeres = {:,.0f}%\".format(porcentajem))\n",
        "print(\"Porcentaje de hombres = {:,.0f}%\".format(porcentajeh))\n",
        "print(\"Total grupo = {:,.0f}\".format(totalgrupo))"
      ],
      "metadata": {
        "id": "-a5G0j4t0ZBK"
      },
      "execution_count": null,
      "outputs": []
    },
    {
      "cell_type": "code",
      "source": [
        "#Un vendedor recibe un sueldo base más un 10% extra por comisión de sus ventas, el vendedor desea saber cuánto dinero obtendrá por concepto de comisiones por las tres\n",
        "#ventas que realiza en el mes y el total que recibirá en el mes tomando en cuenta su sueldo base y comisiones.\n",
        "\n",
        "Sueldobase = int(input(\"Ingrese su sueldo base: \"))\n",
        "venta1 = int(input(\"Ingrese su venta # 1: \"))\n",
        "comision1 = venta1 * 0.10\n",
        "venta2 = int(input(\"Ingrese su venta # 2: \"))\n",
        "comision2 = venta2 * 0.10\n",
        "venta3 = int(input(\"Ingrese su venta # 3: \"))\n",
        "comision3 = venta3 * 0.10\n",
        "comisiontotal = comision1 + comision2 + comision3\n",
        "totalsueldo = comisiontotal + Sueldobase\n",
        "print(\"Comisión venta # 1 = ${:,.0f} Comisión venta # 2 = ${:,.0f} Comisión venta # 3 = ${:,.0f} \".format(comision1,comision2,comision3))\n",
        "print(\"Sueldo Base = ${:,.0f}\".format(Sueldobase))\n",
        "print(\"Comisión por Ventas = ${:,.0f}\".format(comisiontotal))\n",
        "print(\"Dinero total = ${:,.0f}\".format(totalsueldo))"
      ],
      "metadata": {
        "id": "LCKmmmbz0dxi"
      },
      "execution_count": null,
      "outputs": []
    }
  ]
}