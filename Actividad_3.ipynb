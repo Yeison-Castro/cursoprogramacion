{
  "nbformat": 4,
  "nbformat_minor": 0,
  "metadata": {
    "colab": {
      "provenance": []
    },
    "kernelspec": {
      "name": "python3",
      "display_name": "Python 3"
    },
    "language_info": {
      "name": "python"
    }
  },
  "cells": [
    {
      "cell_type": "code",
      "execution_count": null,
      "metadata": {
        "id": "sgFlkKI00ylz"
      },
      "outputs": [],
      "source": [
        "# Taller Numero 3\n",
        "#Data\n",
        "num_ID = input(\"Digite su numero de identificacion: \")\n",
        "nombre_per = input(\"Digite su nombre: \")\n",
        "apellido_per = input(\"Digite su apellido: \")\n",
        "direccion_per = input(\"Digite su dirección: \")\n",
        "telefono_per = input(\"Digite su Telefono: \")\n",
        "\n",
        "# Validacion Bono por sueldo \n",
        "sueldo_per = float(input(\"Digite su sueldo basico: \"))\n",
        "if sueldo_per >= 1000000 and sueldo_per <= 1500000:\n",
        "    comision = sueldo_per * 0.02\n",
        "    print(\"posee una comision del 2%\")\n",
        "elif sueldo_per > 1500000 and sueldo_per <= 2000000:\n",
        "    comision = sueldo_per * 0.05\n",
        "    print(\"posee una comision del 5%\")    \n",
        "else:print(\"No tiene bono \")\n",
        "# Fin Validacion Bono por sueldo\n",
        "\n",
        "# Validacion Bono Prepensión\n",
        "edad_per = int(input(\"Digite su edad: \"))\n",
        "bono = sueldo_per * 0.05\n",
        "if edad_per < 55:\n",
        "  estado = \"(NO APROBADO)El empleado no cumple con los requisitos para recibir un bono de prepensión.\"\n",
        "else:\n",
        "  estado = \"(APROBADO) cuenta con bono de prepensión del 5% sobre su sueldo basico.\" \n",
        "  #fin Bono prepensión\n",
        "    \n",
        "#Validación Casado \n",
        "estado_civil_per = input(\"¿Está casado el empleado? (s/n): \")\n",
        "Empleado_tiene_hijos = input(\"¿Tiene hijos el empleado? (s/n): \")\n",
        "if Empleado_tiene_hijos == \"s\":\n",
        "    cantidad_hijo = input(\"cuantos Hijos tiene: \")\n",
        "    print(\"Numero de Hijos = {}\".format(cantidad_hijo))\n",
        "else:\n",
        "    print(\"NO tiene hijos\")\n",
        "if estado_civil_per == \"s\" and Empleado_tiene_hijos == \"s\":\n",
        "    print(\"Este empleado tiene derecho a un paseo cada diciembre.\")\n",
        "else:\n",
        "    print(\"No tiene derecho a paseo en Diciembre\")\n",
        "#fin Validacion Casado\n",
        "\n",
        "estatura_per = input(\"Digite su estatura en centimetros: \")\n",
        "fecha_contratacion_per = input(\"Digite su fecha de contratación : \")\n",
        "\n",
        "#validacion bono Alimentación\n",
        "dias_labortados_per = int (input(\"Digite los dias laborados: \"))\n",
        "if dias_labortados_per <= 20 and sueldo_per <= 1000000:\n",
        "  print(\"El empleado tendrá derecho a un bono de alimentación.\")\n",
        "else:\n",
        "  print(\"No tiene bono alimentario\")\n",
        "#Imprimir por pantalla\n",
        "\n",
        "print(\"\\nCedula = {}\".format(num_ID))\n",
        "print(\"Nombre = {}\".format(nombre_per))\n",
        "print(\"Apellido = {}\".format(apellido_per))\n",
        "print(\"Dirección = {}\".format(direccion_per))\n",
        "print(\"Telefono = {}\".format(telefono_per))\n",
        "print(\"Edad = {}\".format(edad_per))\n",
        "print(\"Estado Civil = {}\".format(estado_civil_per))\n",
        "print(\"Estatura = {}\".format(estatura_per))\n",
        "print(\"Fecha de Contratación = {}\".format(fecha_contratacion_per))\n",
        "print(\"Sueldo = {:,.0f}\".format(sueldo_per))\n",
        "print(\"Dias Laborados = {}\".format(dias_labortados_per))\n",
        "\n",
        "#Beneficios\n",
        "print(\"ESTOS SON SUS BENEFICIOS\")\n",
        "print(\"Si cumple con la edad, podria tener un bono de prepensión de = ${:,.0f} el estado del mismo es: {}\".format(bono,estado)) "
      ]
    }
  ]
}